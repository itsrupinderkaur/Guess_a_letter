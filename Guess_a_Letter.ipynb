{
 "cells": [
  {
   "cell_type": "code",
   "execution_count": 1,
   "metadata": {},
   "outputs": [],
   "source": [
    "#user will guess a letter randomly selected by computer system\n",
    "#there will be only 6 attempts"
   ]
  },
  {
   "cell_type": "code",
   "execution_count": 9,
   "metadata": {},
   "outputs": [],
   "source": [
    "import string\n",
    "import random\n",
    "def guess_a_letter():\n",
    "    letter = string.ascii_letters\n",
    "    random_letter= random.choice(letter)\n",
    "    user_letter= user_input()\n",
    "    for i in range(0,5):\n",
    "        if user_letter == random_letter:\n",
    "            print(\"Your guess is right\")\n",
    "            break\n",
    "        else:\n",
    "            print(\"Your guess is wrong\",random_letter)\n",
    "            print(\"Number of attempts left\",5-i)\n",
    "            user_letter= user_input()"
   ]
  },
  {
   "cell_type": "code",
   "execution_count": 10,
   "metadata": {},
   "outputs": [],
   "source": [
    "def user_input():\n",
    "     return input(\"Please choose any letter a-z\").lower()"
   ]
  },
  {
   "cell_type": "code",
   "execution_count": null,
   "metadata": {},
   "outputs": [],
   "source": [
    "guess_a_letter()"
   ]
  },
  {
   "cell_type": "code",
   "execution_count": null,
   "metadata": {},
   "outputs": [],
   "source": []
  },
  {
   "cell_type": "code",
   "execution_count": null,
   "metadata": {},
   "outputs": [],
   "source": []
  }
 ],
 "metadata": {
  "kernelspec": {
   "display_name": "Python 3",
   "language": "python",
   "name": "python3"
  },
  "language_info": {
   "codemirror_mode": {
    "name": "ipython",
    "version": 3
   },
   "file_extension": ".py",
   "mimetype": "text/x-python",
   "name": "python",
   "nbconvert_exporter": "python",
   "pygments_lexer": "ipython3",
   "version": "3.7.4"
  }
 },
 "nbformat": 4,
 "nbformat_minor": 2
}
